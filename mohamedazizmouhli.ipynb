{
  "nbformat": 4,
  "nbformat_minor": 0,
  "metadata": {
    "colab": {
      "name": "Untitled1.ipynb",
      "provenance": [],
      "collapsed_sections": [],
      "authorship_tag": "ABX9TyMp+cHL4o92Q4Kge1SU7NBJ",
      "include_colab_link": true
    },
    "kernelspec": {
      "name": "python3",
      "display_name": "Python 3"
    }
  },
  "cells": [
    {
      "cell_type": "markdown",
      "metadata": {
        "id": "view-in-github",
        "colab_type": "text"
      },
      "source": [
        "<a href=\"https://colab.research.google.com/github/azizmh36/Sentiment-Analysis-of-Airlines/blob/main/mohamedazizmouhli.ipynb\" target=\"_parent\"><img src=\"https://colab.research.google.com/assets/colab-badge.svg\" alt=\"Open In Colab\"/></a>"
      ]
    },
    {
      "cell_type": "code",
      "metadata": {
        "id": "_Le2A56jkD8d"
      },
      "source": [
        "# Python packages to manipulate files\n",
        "import os\n",
        "import shutil\n",
        "import pathlib\n",
        "from pathlib import Path\n",
        "import datetime\n",
        "# Tensorflow and Numpy packages\n",
        "import tensorflow as tf\n",
        "from tensorflow.keras.preprocessing.image import ImageDataGenerator\n",
        "from tensorflow.keras.models import Sequential\n",
        "from tensorflow.keras.layers import Conv2D, Dense, MaxPool2D, Activation, Flatten, Dropout\n",
        "import numpy as np\n",
        "\n",
        "# Display related packages\n",
        "import matplotlib.pyplot as plt\n",
        "import matplotlib.image as mpimg\n",
        "from IPython.display import Image\n",
        "import PIL\n",
        "import PIL.Image\n",
        "\n",
        "%matplotlib inline"
      ],
      "execution_count": null,
      "outputs": []
    },
    {
      "cell_type": "code",
      "metadata": {
        "id": "HI6jcN4KkNix"
      },
      "source": [
        "my_devices = tf.config.experimental.list_physical_devices(device_type='CPU')\n",
        "tf.config.experimental.set_visible_devices(devices= my_devices, device_type='CPU')\n",
        "# #tf.config.set_visible_devices([], 'GPU')"
      ],
      "execution_count": null,
      "outputs": []
    },
    {
      "cell_type": "code",
      "metadata": {
        "colab": {
          "base_uri": "https://localhost:8080/"
        },
        "id": "hfLKBCDokNlU",
        "outputId": "722148c7-fd8f-44a9-fbd7-cedad5864152"
      },
      "source": [
        "! git clone https://github.com/minus--/arabic-letters-tutorial.git"
      ],
      "execution_count": null,
      "outputs": [
        {
          "output_type": "stream",
          "text": [
            "Cloning into 'arabic-letters-tutorial'...\n",
            "remote: Enumerating objects: 50, done.\u001b[K\n",
            "remote: Counting objects: 100% (50/50), done.\u001b[K\n",
            "remote: Compressing objects: 100% (37/37), done.\u001b[K\n",
            "remote: Total 50 (delta 25), reused 31 (delta 12), pack-reused 0\u001b[K\n",
            "Unpacking objects: 100% (50/50), done.\n"
          ],
          "name": "stdout"
        }
      ]
    },
    {
      "cell_type": "code",
      "metadata": {
        "id": "1Ep289-qkNoF"
      },
      "source": [
        "! [ ! -d ./data ] && tar xvzf ./arabic-letters-tutorial/arabic_handwritten_data.tgz || echo \"Dataset folder already exists\""
      ],
      "execution_count": null,
      "outputs": []
    },
    {
      "cell_type": "code",
      "metadata": {
        "id": "gsr4NVZAkNrZ"
      },
      "source": [
        "arabic_characters = ['alef', 'beh', 'teh', 'theh', 'jeem', 'hah', 'khah', 'dal', 'thal',\n",
        "                    'reh', 'zain', 'seen', 'sheen', 'sad', 'dad', 'tah', 'zah', 'ain',\n",
        "                    'ghain', 'feh', 'qaf', 'kaf', 'lam', 'meem', 'noon', 'heh', 'waw', 'yeh']"
      ],
      "execution_count": null,
      "outputs": []
    },
    {
      "cell_type": "code",
      "metadata": {
        "id": "G0nHT0eikNut"
      },
      "source": [
        "logdir = os.path.join(\"./logs\", datetime.datetime.now().strftime(\"%Y%m%d-%H%M%S\"))\n",
        "%load_ext tensorboard"
      ],
      "execution_count": null,
      "outputs": []
    },
    {
      "cell_type": "code",
      "metadata": {
        "id": "_9Mov2HikNxS"
      },
      "source": [
        "batch_size = 32\n",
        "img_height = 32\n",
        "img_width = 32\n",
        "\n",
        "def get_dataset(dataset_dir):\n",
        "    \n",
        "    def process_filename(file_path):\n",
        "        label = tf.strings.regex_replace(input=file_path,pattern=r\".+_label_(\\d+)\\.png\", rewrite=r\"\\1\")\n",
        "        label = tf.strings.to_number(label, tf.int32)-1\n",
        "        #label = tf.one_hot(label, depth=29)\n",
        "        return label\n",
        "\n",
        "    def process_img(file_path):\n",
        "\n",
        "        img = tf.io.read_file(file_path)\n",
        "        img = tf.image.decode_png(img, channels=3)\n",
        "        img = tf.image.resize(img, size=(32, 32))\n",
        "        img = tf.image.convert_image_dtype(img, tf.float32)\n",
        "        img = tf.cast(img, tf.float32) / 255.0\n",
        "        return img\n",
        "    \n",
        "    data_dir = pathlib.Path(dataset_dir)\n",
        "    file_list = [str(path.absolute()) for path in Path(data_dir).glob(\"*.png\")]\n",
        "    files_ds = tf.data.Dataset.from_tensor_slices((file_list))\n",
        "    files_ds = files_ds.map(lambda x: (process_img(x), process_filename(x)))\n",
        "    return files_ds"
      ],
      "execution_count": null,
      "outputs": []
    },
    {
      "cell_type": "code",
      "metadata": {
        "id": "4BvYb3Q8kN0R"
      },
      "source": [
        "train_dataset_path = \"data/train_data\"\n",
        "test_dataset_path = \"data/test_data\"\n",
        "\n",
        "train_ds = get_dataset(train_dataset_path).shuffle(buffer_size=batch_size*10).batch(batch_size)\n",
        "valid_ds = get_dataset(test_dataset_path).batch(batch_size)\n"
      ],
      "execution_count": null,
      "outputs": []
    },
    {
      "cell_type": "code",
      "metadata": {
        "colab": {
          "base_uri": "https://localhost:8080/"
        },
        "id": "Ee-lBHJ9kN2h",
        "outputId": "36d5fc0a-733d-4d2b-fb45-e3b313c82156"
      },
      "source": [
        "Model=Sequential()\n",
        "Model.add(Conv2D(64,(3,3),input_shape=(32,32,3)))\n",
        "Model.add(Activation('relu'))\n",
        "Model.add(MaxPool2D(pool_size=(2,2)))\n",
        "\n",
        "Model.add(Conv2D(128,(3,3)))\n",
        "Model.add(Activation('relu'))\n",
        "Model.add(MaxPool2D(pool_size=(2,2)))\n",
        "\n",
        "Model.add(Flatten())\n",
        "\n",
        "Model.add(Dense(512))\n",
        "Model.add(Activation('relu'))\n",
        "Model.add(Dropout(0.5))\n",
        "Model.add(Dense(28))\n",
        "Model.add(Activation('softmax'))\n",
        "\n",
        "Model.summary()"
      ],
      "execution_count": null,
      "outputs": [
        {
          "output_type": "stream",
          "text": [
            "Model: \"sequential\"\n",
            "_________________________________________________________________\n",
            "Layer (type)                 Output Shape              Param #   \n",
            "=================================================================\n",
            "conv2d (Conv2D)              (None, 30, 30, 64)        1792      \n",
            "_________________________________________________________________\n",
            "activation (Activation)      (None, 30, 30, 64)        0         \n",
            "_________________________________________________________________\n",
            "max_pooling2d (MaxPooling2D) (None, 15, 15, 64)        0         \n",
            "_________________________________________________________________\n",
            "conv2d_1 (Conv2D)            (None, 13, 13, 128)       73856     \n",
            "_________________________________________________________________\n",
            "activation_1 (Activation)    (None, 13, 13, 128)       0         \n",
            "_________________________________________________________________\n",
            "max_pooling2d_1 (MaxPooling2 (None, 6, 6, 128)         0         \n",
            "_________________________________________________________________\n",
            "flatten (Flatten)            (None, 4608)              0         \n",
            "_________________________________________________________________\n",
            "dense (Dense)                (None, 512)               2359808   \n",
            "_________________________________________________________________\n",
            "activation_2 (Activation)    (None, 512)               0         \n",
            "_________________________________________________________________\n",
            "dropout (Dropout)            (None, 512)               0         \n",
            "_________________________________________________________________\n",
            "dense_1 (Dense)              (None, 28)                14364     \n",
            "_________________________________________________________________\n",
            "activation_3 (Activation)    (None, 28)                0         \n",
            "=================================================================\n",
            "Total params: 2,449,820\n",
            "Trainable params: 2,449,820\n",
            "Non-trainable params: 0\n",
            "_________________________________________________________________\n"
          ],
          "name": "stdout"
        }
      ]
    },
    {
      "cell_type": "code",
      "metadata": {
        "id": "SGuNx92OkN6E"
      },
      "source": [
        "Model.compile(\n",
        "    # Optimizer\n",
        "    optimizer=tf.keras.optimizers.RMSprop(),  \n",
        "    # Loss function to minimize\n",
        "    loss=tf.keras.losses.SparseCategoricalCrossentropy(from_logits=True),\n",
        "    # List of metrics to monitor\n",
        "    metrics=[tf.keras.metrics.SparseCategoricalAccuracy()],\n",
        ")"
      ],
      "execution_count": null,
      "outputs": []
    },
    {
      "cell_type": "code",
      "metadata": {
        "id": "iaF3k4wFlPka"
      },
      "source": [
        "callbacks = [\n",
        "    tf.keras.callbacks.TensorBoard(\n",
        "        log_dir=logdir,\n",
        "        histogram_freq=0,  # How often to log histogram visualizations\n",
        "        embeddings_freq=0,  # How often to log embedding visualizations\n",
        "        update_freq=\"epoch\",\n",
        "    ) \n",
        "]"
      ],
      "execution_count": null,
      "outputs": []
    },
    {
      "cell_type": "code",
      "metadata": {
        "colab": {
          "base_uri": "https://localhost:8080/"
        },
        "id": "FIZMnyhTlPqe",
        "outputId": "938b97b1-cd3c-4a3e-acdd-95c3166d71e3"
      },
      "source": [
        "print(\"Fit model on training data\")\n",
        "history = Model.fit(train_ds, epochs = 50 ,validation_data=valid_ds, callbacks = callbacks)"
      ],
      "execution_count": 14,
      "outputs": [
        {
          "output_type": "stream",
          "text": [
            "Fit model on training data\n",
            "Epoch 1/50\n",
            "  1/420 [..............................] - ETA: 0s - loss: 3.3306 - sparse_categorical_accuracy: 0.0000e+00WARNING:tensorflow:From /usr/local/lib/python3.6/dist-packages/tensorflow/python/ops/summary_ops_v2.py:1277: stop (from tensorflow.python.eager.profiler) is deprecated and will be removed after 2020-07-01.\n",
            "Instructions for updating:\n",
            "use `tf.profiler.experimental.stop` instead.\n",
            "420/420 [==============================] - 51s 122ms/step - loss: 3.1314 - sparse_categorical_accuracy: 0.2598 - val_loss: 2.9931 - val_sparse_categorical_accuracy: 0.4015\n",
            "Epoch 2/50\n",
            "420/420 [==============================] - 52s 124ms/step - loss: 2.9573 - sparse_categorical_accuracy: 0.4374 - val_loss: 2.8734 - val_sparse_categorical_accuracy: 0.5214\n",
            "Epoch 3/50\n",
            "420/420 [==============================] - 51s 121ms/step - loss: 2.8508 - sparse_categorical_accuracy: 0.5450 - val_loss: 2.7749 - val_sparse_categorical_accuracy: 0.6185\n",
            "Epoch 4/50\n",
            "420/420 [==============================] - 53s 125ms/step - loss: 2.7946 - sparse_categorical_accuracy: 0.5990 - val_loss: 2.8223 - val_sparse_categorical_accuracy: 0.5711\n",
            "Epoch 5/50\n",
            "420/420 [==============================] - 50s 120ms/step - loss: 2.7625 - sparse_categorical_accuracy: 0.6308 - val_loss: 2.7417 - val_sparse_categorical_accuracy: 0.6518\n",
            "Epoch 6/50\n",
            "420/420 [==============================] - 51s 121ms/step - loss: 2.7499 - sparse_categorical_accuracy: 0.6425 - val_loss: 2.7361 - val_sparse_categorical_accuracy: 0.6557\n",
            "Epoch 7/50\n",
            "420/420 [==============================] - 50s 120ms/step - loss: 2.7318 - sparse_categorical_accuracy: 0.6619 - val_loss: 2.7271 - val_sparse_categorical_accuracy: 0.6646\n",
            "Epoch 8/50\n",
            "420/420 [==============================] - 51s 121ms/step - loss: 2.7263 - sparse_categorical_accuracy: 0.6658 - val_loss: 2.7303 - val_sparse_categorical_accuracy: 0.6610\n",
            "Epoch 9/50\n",
            "420/420 [==============================] - 51s 120ms/step - loss: 2.7169 - sparse_categorical_accuracy: 0.6750 - val_loss: 2.7068 - val_sparse_categorical_accuracy: 0.6860\n",
            "Epoch 10/50\n",
            "420/420 [==============================] - 54s 128ms/step - loss: 2.7047 - sparse_categorical_accuracy: 0.6876 - val_loss: 2.6868 - val_sparse_categorical_accuracy: 0.7042\n",
            "Epoch 11/50\n",
            "420/420 [==============================] - 50s 120ms/step - loss: 2.6831 - sparse_categorical_accuracy: 0.7103 - val_loss: 2.6836 - val_sparse_categorical_accuracy: 0.7086\n",
            "Epoch 12/50\n",
            "420/420 [==============================] - 51s 121ms/step - loss: 2.6752 - sparse_categorical_accuracy: 0.7178 - val_loss: 2.6607 - val_sparse_categorical_accuracy: 0.7339\n",
            "Epoch 13/50\n",
            "420/420 [==============================] - 50s 120ms/step - loss: 2.6525 - sparse_categorical_accuracy: 0.7402 - val_loss: 2.6507 - val_sparse_categorical_accuracy: 0.7429\n",
            "Epoch 14/50\n",
            "420/420 [==============================] - 51s 121ms/step - loss: 2.6304 - sparse_categorical_accuracy: 0.7619 - val_loss: 2.6113 - val_sparse_categorical_accuracy: 0.7804\n",
            "Epoch 15/50\n",
            "420/420 [==============================] - 52s 123ms/step - loss: 2.6052 - sparse_categorical_accuracy: 0.7877 - val_loss: 2.5999 - val_sparse_categorical_accuracy: 0.7929\n",
            "Epoch 16/50\n",
            "420/420 [==============================] - 51s 122ms/step - loss: 2.6008 - sparse_categorical_accuracy: 0.7921 - val_loss: 2.6037 - val_sparse_categorical_accuracy: 0.7872\n",
            "Epoch 17/50\n",
            "420/420 [==============================] - 53s 125ms/step - loss: 2.5884 - sparse_categorical_accuracy: 0.8036 - val_loss: 2.5879 - val_sparse_categorical_accuracy: 0.8051\n",
            "Epoch 18/50\n",
            "420/420 [==============================] - 50s 120ms/step - loss: 2.5866 - sparse_categorical_accuracy: 0.8051 - val_loss: 2.5896 - val_sparse_categorical_accuracy: 0.8033\n",
            "Epoch 19/50\n",
            "420/420 [==============================] - 50s 119ms/step - loss: 2.5805 - sparse_categorical_accuracy: 0.8114 - val_loss: 2.5920 - val_sparse_categorical_accuracy: 0.7994\n",
            "Epoch 20/50\n",
            "420/420 [==============================] - 50s 119ms/step - loss: 2.5761 - sparse_categorical_accuracy: 0.8155 - val_loss: 2.5851 - val_sparse_categorical_accuracy: 0.8071\n",
            "Epoch 21/50\n",
            "420/420 [==============================] - 52s 123ms/step - loss: 2.5697 - sparse_categorical_accuracy: 0.8228 - val_loss: 2.5844 - val_sparse_categorical_accuracy: 0.8074\n",
            "Epoch 22/50\n",
            "420/420 [==============================] - 50s 118ms/step - loss: 2.5662 - sparse_categorical_accuracy: 0.8258 - val_loss: 2.5794 - val_sparse_categorical_accuracy: 0.8116\n",
            "Epoch 23/50\n",
            "420/420 [==============================] - 54s 129ms/step - loss: 2.5624 - sparse_categorical_accuracy: 0.8303 - val_loss: 2.5798 - val_sparse_categorical_accuracy: 0.8122\n",
            "Epoch 24/50\n",
            "420/420 [==============================] - 50s 119ms/step - loss: 2.5610 - sparse_categorical_accuracy: 0.8310 - val_loss: 2.5746 - val_sparse_categorical_accuracy: 0.8173\n",
            "Epoch 25/50\n",
            "420/420 [==============================] - 50s 118ms/step - loss: 2.5589 - sparse_categorical_accuracy: 0.8333 - val_loss: 2.5767 - val_sparse_categorical_accuracy: 0.8161\n",
            "Epoch 26/50\n",
            "420/420 [==============================] - 50s 119ms/step - loss: 2.5602 - sparse_categorical_accuracy: 0.8315 - val_loss: 2.5791 - val_sparse_categorical_accuracy: 0.8125\n",
            "Epoch 27/50\n",
            "420/420 [==============================] - 51s 120ms/step - loss: 2.5533 - sparse_categorical_accuracy: 0.8385 - val_loss: 2.5754 - val_sparse_categorical_accuracy: 0.8167\n",
            "Epoch 28/50\n",
            "420/420 [==============================] - 50s 119ms/step - loss: 2.5512 - sparse_categorical_accuracy: 0.8408 - val_loss: 2.5738 - val_sparse_categorical_accuracy: 0.8185\n",
            "Epoch 29/50\n",
            "420/420 [==============================] - 52s 124ms/step - loss: 2.5496 - sparse_categorical_accuracy: 0.8426 - val_loss: 2.5695 - val_sparse_categorical_accuracy: 0.8217\n",
            "Epoch 30/50\n",
            "420/420 [==============================] - 50s 119ms/step - loss: 2.5348 - sparse_categorical_accuracy: 0.8568 - val_loss: 2.5507 - val_sparse_categorical_accuracy: 0.8408\n",
            "Epoch 31/50\n",
            "420/420 [==============================] - 50s 119ms/step - loss: 2.5266 - sparse_categorical_accuracy: 0.8656 - val_loss: 2.5498 - val_sparse_categorical_accuracy: 0.8417\n",
            "Epoch 32/50\n",
            "420/420 [==============================] - 50s 119ms/step - loss: 2.5228 - sparse_categorical_accuracy: 0.8693 - val_loss: 2.5544 - val_sparse_categorical_accuracy: 0.8369\n",
            "Epoch 33/50\n",
            "420/420 [==============================] - 51s 121ms/step - loss: 2.5206 - sparse_categorical_accuracy: 0.8711 - val_loss: 2.5426 - val_sparse_categorical_accuracy: 0.8506\n",
            "Epoch 34/50\n",
            "420/420 [==============================] - 50s 119ms/step - loss: 2.5206 - sparse_categorical_accuracy: 0.8709 - val_loss: 2.5454 - val_sparse_categorical_accuracy: 0.8461\n",
            "Epoch 35/50\n",
            "420/420 [==============================] - 50s 119ms/step - loss: 2.5160 - sparse_categorical_accuracy: 0.8757 - val_loss: 2.5389 - val_sparse_categorical_accuracy: 0.8530\n",
            "Epoch 36/50\n",
            "420/420 [==============================] - 52s 125ms/step - loss: 2.5160 - sparse_categorical_accuracy: 0.8760 - val_loss: 2.5416 - val_sparse_categorical_accuracy: 0.8494\n",
            "Epoch 37/50\n",
            "420/420 [==============================] - 50s 120ms/step - loss: 2.5131 - sparse_categorical_accuracy: 0.8789 - val_loss: 2.5429 - val_sparse_categorical_accuracy: 0.8491\n",
            "Epoch 38/50\n",
            "420/420 [==============================] - 50s 120ms/step - loss: 2.5086 - sparse_categorical_accuracy: 0.8838 - val_loss: 2.5436 - val_sparse_categorical_accuracy: 0.8488\n",
            "Epoch 39/50\n",
            "420/420 [==============================] - 52s 123ms/step - loss: 2.5059 - sparse_categorical_accuracy: 0.8867 - val_loss: 2.5409 - val_sparse_categorical_accuracy: 0.8509\n",
            "Epoch 40/50\n",
            "420/420 [==============================] - 50s 119ms/step - loss: 2.5092 - sparse_categorical_accuracy: 0.8825 - val_loss: 2.5355 - val_sparse_categorical_accuracy: 0.8568\n",
            "Epoch 41/50\n",
            "420/420 [==============================] - 50s 119ms/step - loss: 2.5114 - sparse_categorical_accuracy: 0.8800 - val_loss: 2.5412 - val_sparse_categorical_accuracy: 0.8503\n",
            "Epoch 42/50\n",
            "420/420 [==============================] - 52s 125ms/step - loss: 2.5062 - sparse_categorical_accuracy: 0.8857 - val_loss: 2.5477 - val_sparse_categorical_accuracy: 0.8435\n",
            "Epoch 43/50\n",
            "420/420 [==============================] - 50s 119ms/step - loss: 2.5041 - sparse_categorical_accuracy: 0.8880 - val_loss: 2.5506 - val_sparse_categorical_accuracy: 0.8399\n",
            "Epoch 44/50\n",
            "420/420 [==============================] - 50s 119ms/step - loss: 2.5044 - sparse_categorical_accuracy: 0.8870 - val_loss: 2.5395 - val_sparse_categorical_accuracy: 0.8533\n",
            "Epoch 45/50\n",
            "420/420 [==============================] - 51s 122ms/step - loss: 2.5046 - sparse_categorical_accuracy: 0.8870 - val_loss: 2.5356 - val_sparse_categorical_accuracy: 0.8568\n",
            "Epoch 46/50\n",
            "420/420 [==============================] - 50s 118ms/step - loss: 2.5026 - sparse_categorical_accuracy: 0.8896 - val_loss: 2.5317 - val_sparse_categorical_accuracy: 0.8607\n",
            "Epoch 47/50\n",
            "420/420 [==============================] - 55s 131ms/step - loss: 2.5011 - sparse_categorical_accuracy: 0.8908 - val_loss: 2.5347 - val_sparse_categorical_accuracy: 0.8571\n",
            "Epoch 48/50\n",
            "420/420 [==============================] - 54s 128ms/step - loss: 2.5034 - sparse_categorical_accuracy: 0.8889 - val_loss: 2.5376 - val_sparse_categorical_accuracy: 0.8542\n",
            "Epoch 49/50\n",
            "420/420 [==============================] - 54s 128ms/step - loss: 2.5019 - sparse_categorical_accuracy: 0.8902 - val_loss: 2.5363 - val_sparse_categorical_accuracy: 0.8560\n",
            "Epoch 50/50\n",
            "420/420 [==============================] - 51s 122ms/step - loss: 2.5010 - sparse_categorical_accuracy: 0.8911 - val_loss: 2.5400 - val_sparse_categorical_accuracy: 0.8521\n"
          ],
          "name": "stdout"
        }
      ]
    },
    {
      "cell_type": "code",
      "metadata": {
        "id": "ZXUkSiPNlPuO",
        "colab": {
          "base_uri": "https://localhost:8080/"
        },
        "outputId": "5aeabe5a-3769-4f07-f6e5-247e677daf45"
      },
      "source": [
        "from keras.models import Sequential\n",
        "from keras.layers import Conv2D, MaxPooling2D, Flatten, Dense, Dropout\n",
        "\n",
        "model = Sequential()\n",
        "model.add(Conv2D(filters=16, kernel_size=2, padding='same', activation='relu', \n",
        "                        input_shape=(32,32,1)))\n",
        "model.add(MaxPooling2D(pool_size=2))\n",
        "model.add(Conv2D(filters=32, kernel_size=2, padding='same', activation='relu'))\n",
        "model.add(MaxPooling2D(pool_size=2))\n",
        "model.add(Conv2D(filters=64, kernel_size=2, padding='same', activation='relu'))\n",
        "model.add(MaxPooling2D(pool_size=2))\n",
        "model.add(Dropout(0.3))\n",
        "model.add(Flatten())\n",
        "model.add(Dense(500, activation='relu'))\n",
        "model.add(Dropout(0.4))\n",
        "model.add(Dense(29, activation='softmax'))\n",
        "\n",
        "model.summary()"
      ],
      "execution_count": 15,
      "outputs": [
        {
          "output_type": "stream",
          "text": [
            "Model: \"sequential_1\"\n",
            "_________________________________________________________________\n",
            "Layer (type)                 Output Shape              Param #   \n",
            "=================================================================\n",
            "conv2d_2 (Conv2D)            (None, 32, 32, 16)        80        \n",
            "_________________________________________________________________\n",
            "max_pooling2d_2 (MaxPooling2 (None, 16, 16, 16)        0         \n",
            "_________________________________________________________________\n",
            "conv2d_3 (Conv2D)            (None, 16, 16, 32)        2080      \n",
            "_________________________________________________________________\n",
            "max_pooling2d_3 (MaxPooling2 (None, 8, 8, 32)          0         \n",
            "_________________________________________________________________\n",
            "conv2d_4 (Conv2D)            (None, 8, 8, 64)          8256      \n",
            "_________________________________________________________________\n",
            "max_pooling2d_4 (MaxPooling2 (None, 4, 4, 64)          0         \n",
            "_________________________________________________________________\n",
            "dropout_1 (Dropout)          (None, 4, 4, 64)          0         \n",
            "_________________________________________________________________\n",
            "flatten_1 (Flatten)          (None, 1024)              0         \n",
            "_________________________________________________________________\n",
            "dense_2 (Dense)              (None, 500)               512500    \n",
            "_________________________________________________________________\n",
            "dropout_2 (Dropout)          (None, 500)               0         \n",
            "_________________________________________________________________\n",
            "dense_3 (Dense)              (None, 29)                14529     \n",
            "=================================================================\n",
            "Total params: 537,445\n",
            "Trainable params: 537,445\n",
            "Non-trainable params: 0\n",
            "_________________________________________________________________\n"
          ],
          "name": "stdout"
        }
      ]
    },
    {
      "cell_type": "code",
      "metadata": {
        "id": "dLoZ3s9NvR--"
      },
      "source": [
        "model.compile(loss='categorical_crossentropy', optimizer='rmsprop', \n",
        "                  metrics=['accuracy'])"
      ],
      "execution_count": 22,
      "outputs": []
    },
    {
      "cell_type": "code",
      "metadata": {
        "id": "1_Uv5kfSvSC6"
      },
      "source": [
        "callbacks = [\n",
        "    tf.keras.callbacks.TensorBoard(\n",
        "        log_dir=logdir,\n",
        "        histogram_freq=0,  # How often to log histogram visualizations\n",
        "        embeddings_freq=0,  # How often to log embedding visualizations\n",
        "        update_freq=\"epoch\",\n",
        "    ) \n",
        "]"
      ],
      "execution_count": 23,
      "outputs": []
    },
    {
      "cell_type": "code",
      "metadata": {
        "id": "1duvYesKvSGs"
      },
      "source": [
        "os.chdir(\"/content/data\")\n",
        "os.mkdir(\"class\")\n",
        "os.chdir('/content/data/class/')\n"
      ],
      "execution_count": 16,
      "outputs": []
    },
    {
      "cell_type": "code",
      "metadata": {
        "id": "uPQYYn0-vSLu"
      },
      "source": [
        "for i in range (len(arabic_characters)):\n",
        "    os.mkdir(arabic_characters[i])"
      ],
      "execution_count": 17,
      "outputs": []
    },
    {
      "cell_type": "code",
      "metadata": {
        "id": "xTJe890SvSPi"
      },
      "source": [
        "os.chdir('/content/data/train_data/')"
      ],
      "execution_count": 18,
      "outputs": []
    },
    {
      "cell_type": "code",
      "metadata": {
        "id": "KKb3F0FMvSTS"
      },
      "source": [
        "images = os.listdir()\n",
        "for I in images:\n",
        "    file_name,file_ext=os.path.splitext(I) \n",
        "    file_name= file_name.split('_')\n",
        "    \n",
        "    lab_nbr=file_name[-1]\n",
        "    if lab_nbr=='1':\n",
        "        shutil.move('/content/data/train_data/'+I,'/content/data/class/alef')\n",
        "    elif lab_nbr=='2':\n",
        "        shutil.move('/content/data/train_data/'+I,'/content/data/class/beh')\n",
        "    elif lab_nbr=='3':\n",
        "        shutil.move('/content/data/train_data/'+I,'/content/data/class/teh')\n",
        "    elif lab_nbr=='4':\n",
        "        shutil.move('/content/data/train_data/'+I,'/content/data/class/theh')\n",
        "    elif lab_nbr=='5':\n",
        "        shutil.move('/content/data/train_data/'+I,'/content/data/class/jeem')\n",
        "    elif lab_nbr=='6':\n",
        "        shutil.move('/content/data/train_data/'+I,'/content/data/class/hah')\n",
        "    elif lab_nbr=='7':\n",
        "        shutil.move('/content/data/train_data/'+I,'/content/data/class/khah')\n",
        "    elif lab_nbr=='8':\n",
        "        shutil.move('/content/data/train_data/'+I,'/content/data/class/dal')\n",
        "    elif lab_nbr=='9':\n",
        "        shutil.move('/content/data/train_data/'+I,'/content/data/class/thal')\n",
        "    elif lab_nbr=='10':\n",
        "        shutil.move('/content/data/train_data/'+I,'/content/data/class/reh')\n",
        "    elif lab_nbr=='11':\n",
        "        shutil.move('/content/data/train_data/'+I,'/content/data/class/zain')\n",
        "    elif lab_nbr=='12':\n",
        "        shutil.move('/content/data/train_data/'+I,'/content/data/class/seen')\n",
        "    elif lab_nbr=='13':\n",
        "        shutil.move('/content/data/train_data/'+I,'/content/data/class/sheen')\n",
        "    elif lab_nbr=='14':\n",
        "        shutil.move('/content/data/train_data/'+I,'/content/data/class/sad')\n",
        "    elif lab_nbr=='15':\n",
        "        shutil.move('/content/data/train_data/'+I,'/content/data/class/dad')\n",
        "    elif lab_nbr=='16':\n",
        "        shutil.move('/content/data/train_data/'+I,'/content/data/class/tah')\n",
        "    elif lab_nbr=='17':\n",
        "        shutil.move('/content/data/train_data/'+I,'/content/data/class/zah')\n",
        "    elif lab_nbr=='18':\n",
        "        shutil.move('/content/data/train_data/'+I,'/content/data/class/ain')\n",
        "    elif lab_nbr=='19':\n",
        "        shutil.move('/content/data/train_data/'+I,'/content/data/class/ghain')\n",
        "    elif lab_nbr=='20':\n",
        "        shutil.move('/content/data/train_data/'+I,'/content/data/class/feh')\n",
        "    elif lab_nbr=='21':\n",
        "        shutil.move('/content/data/train_data/'+I,'/content/data/class/qaf')\n",
        "    elif lab_nbr=='22':\n",
        "        shutil.move('/content/data/train_data/'+I,'/content/data/class/kaf')\n",
        "    elif lab_nbr=='23':\n",
        "        shutil.move('/content/data/train_data/'+I,'/content/data/class/lam')\n",
        "    elif lab_nbr=='24':\n",
        "        shutil.move('/content/data/train_data/'+I,'/content/data/class/meem')\n",
        "    elif lab_nbr=='25':\n",
        "        shutil.move('/content/data/train_data/'+I,'/content/data/class/noon')\n",
        "    elif lab_nbr=='26':\n",
        "        shutil.move('/content/data/train_data/'+I,'/content/data/class/heh')\n",
        "    elif lab_nbr=='27':\n",
        "        shutil.move('/content/data/train_data/'+I,'/content/data/class/waw')\n",
        "    else:\n",
        "        shutil.move('/content/data/train_data/'+I,'/content/data/class/yeh')\n",
        "    "
      ],
      "execution_count": 19,
      "outputs": []
    },
    {
      "cell_type": "code",
      "metadata": {
        "id": "qmbcK8MplPxt",
        "colab": {
          "base_uri": "https://localhost:8080/"
        },
        "outputId": "be279900-8728-4856-953b-445dbc6f7842"
      },
      "source": [
        "for i in range (len(arabic_characters)):\n",
        "  print(len(os.listdir(\"/content/data/class/\"+arabic_characters[i])))"
      ],
      "execution_count": 20,
      "outputs": [
        {
          "output_type": "stream",
          "text": [
            "480\n",
            "480\n",
            "480\n",
            "480\n",
            "480\n",
            "480\n",
            "480\n",
            "480\n",
            "480\n",
            "480\n",
            "480\n",
            "480\n",
            "480\n",
            "480\n",
            "480\n",
            "480\n",
            "480\n",
            "480\n",
            "480\n",
            "480\n",
            "480\n",
            "480\n",
            "480\n",
            "480\n",
            "480\n",
            "480\n",
            "480\n",
            "481\n"
          ],
          "name": "stdout"
        }
      ]
    },
    {
      "cell_type": "code",
      "metadata": {
        "id": "RfHNleOCvqhr"
      },
      "source": [
        "for i in range (len(arabic_characters)):\n",
        "    os.mkdir(arabic_characters[i])"
      ],
      "execution_count": 25,
      "outputs": []
    },
    {
      "cell_type": "code",
      "metadata": {
        "id": "ACFhLg43vqlJ"
      },
      "source": [
        "os.chdir('/content/data/train_data/')\n",
        "os.chdir(\"/content/data\")\n",
        "os.mkdir(\"class_test\")\n",
        "os.chdir('/content/data/class_test/')"
      ],
      "execution_count": 26,
      "outputs": []
    },
    {
      "cell_type": "code",
      "metadata": {
        "id": "2LAxa6x6vqq0"
      },
      "source": [
        "for i in range (len(arabic_characters)):\n",
        "    os.mkdir(arabic_characters[i])"
      ],
      "execution_count": 27,
      "outputs": []
    },
    {
      "cell_type": "code",
      "metadata": {
        "id": "nHs7f6mkvquY"
      },
      "source": [
        "os.chdir('/content/data/test_data/')"
      ],
      "execution_count": 28,
      "outputs": []
    },
    {
      "cell_type": "code",
      "metadata": {
        "id": "DrfjSfQxvqzs"
      },
      "source": [
        "images = os.listdir()\n",
        "for I in images:\n",
        "    file_name,file_ext=os.path.splitext(I) \n",
        "    file_name= file_name.split('_')\n",
        "    lab_nbr=file_name[-1]\n",
        "    if lab_nbr=='1':\n",
        "        shutil.move('/content/data/test_data/'+I,'/content/data/class_test/alef')\n",
        "    elif lab_nbr=='2':\n",
        "        shutil.move('/content/data/test_data/'+I,'/content/data/class_test/beh')\n",
        "    elif lab_nbr=='3':\n",
        "        shutil.move('/content/data/test_data/'+I,'/content/data/class_test/teh')\n",
        "    elif lab_nbr=='4':\n",
        "        shutil.move('/content/data/test_data/'+I,'/content/data/class_test/theh')\n",
        "    elif lab_nbr=='5':\n",
        "        shutil.move('/content/data/test_data/'+I,'/content/data/class_test/jeem')\n",
        "    elif lab_nbr=='6':\n",
        "        shutil.move('/content/data/test_data/'+I,'/content/data/class_test/hah')\n",
        "    elif lab_nbr=='7':\n",
        "        shutil.move('/content/data/test_data/'+I,'/content/data/class_test/khah')\n",
        "    elif lab_nbr=='8':\n",
        "        shutil.move('/content/data/test_data/'+I,'/content/data/class_test/dal')\n",
        "    elif lab_nbr=='9':\n",
        "        shutil.move('/content/data/test_data/'+I,'/content/data/class_test/thal')\n",
        "    elif lab_nbr=='10':\n",
        "        shutil.move('/content/data/test_data/'+I,'/content/data/class_test/reh')\n",
        "    elif lab_nbr=='11':\n",
        "        shutil.move('/content/data/test_data/'+I,'/content/data/class_test/zain')\n",
        "    elif lab_nbr=='12':\n",
        "        shutil.move('/content/data/test_data/'+I,'/content/data/class_test/seen')\n",
        "    elif lab_nbr=='13':\n",
        "        shutil.move('/content/data/test_data/'+I,'/content/data/class_test/sheen')\n",
        "    elif lab_nbr=='14':\n",
        "        shutil.move('/content/data/test_data/'+I,'/content/data/class_test/sad')\n",
        "    elif lab_nbr=='15':\n",
        "        shutil.move('/content/data/test_data/'+I,'/content/data/class_test/dad')\n",
        "    elif lab_nbr=='16':\n",
        "        shutil.move('/content/data/test_data/'+I,'/content/data/class_test/tah')\n",
        "    elif lab_nbr=='17':\n",
        "        shutil.move('/content/data/test_data/'+I,'/content/data/class_test/zah')\n",
        "    elif lab_nbr=='18':\n",
        "        shutil.move('/content/data/test_data/'+I,'/content/data/class_test/ain')\n",
        "    elif lab_nbr=='19':\n",
        "        shutil.move('/content/data/test_data/'+I,'/content/data/class_test/ghain')\n",
        "    elif lab_nbr=='20':\n",
        "        shutil.move('/content/data/test_data/'+I,'/content/data/class_test/feh')\n",
        "    elif lab_nbr=='21':\n",
        "        shutil.move('/content/data/test_data/'+I,'/content/data/class_test/qaf')\n",
        "    elif lab_nbr=='22':\n",
        "        shutil.move('/content/data/test_data/'+I,'/content/data/class_test/kaf')\n",
        "    elif lab_nbr=='23':\n",
        "        shutil.move('/content/data/test_data/'+I,'/content/data/class_test/lam')\n",
        "    elif lab_nbr=='24':\n",
        "        shutil.move('/content/data/test_data/'+I,'/content/data/class_test/meem')\n",
        "    elif lab_nbr=='25':\n",
        "        shutil.move('/content/data/test_data/'+I,'/content/data/class_test/noon')\n",
        "    elif lab_nbr=='26':\n",
        "        shutil.move('/content/data/test_data/'+I,'/content/data/class_test/heh')\n",
        "    elif lab_nbr=='27':\n",
        "        shutil.move('/content/data/test_data/'+I,'/content/data/class_test/waw')\n",
        "    else:\n",
        "        shutil.move('/content/data/test_data/'+I,'/content/data/class_test/yeh')"
      ],
      "execution_count": 29,
      "outputs": []
    },
    {
      "cell_type": "code",
      "metadata": {
        "colab": {
          "base_uri": "https://localhost:8080/"
        },
        "id": "ldABvR1-v6LX",
        "outputId": "d9c51482-c255-40c6-b470-3db9c4a77ea4"
      },
      "source": [
        "for i in range (len(arabic_characters)):\n",
        "  print(len(os.listdir(\"/content/data/class_test/\"+arabic_characters[i])))"
      ],
      "execution_count": 30,
      "outputs": [
        {
          "output_type": "stream",
          "text": [
            "120\n",
            "120\n",
            "120\n",
            "120\n",
            "120\n",
            "120\n",
            "120\n",
            "120\n",
            "120\n",
            "120\n",
            "120\n",
            "120\n",
            "120\n",
            "120\n",
            "120\n",
            "120\n",
            "120\n",
            "120\n",
            "120\n",
            "120\n",
            "120\n",
            "120\n",
            "120\n",
            "120\n",
            "120\n",
            "120\n",
            "120\n",
            "120\n"
          ],
          "name": "stdout"
        }
      ]
    },
    {
      "cell_type": "code",
      "metadata": {
        "id": "Ug3HabtQv6P0"
      },
      "source": [
        "Train_ds = ImageDataGenerator(rescale=1./255,\n",
        "                                   rotation_range=45 ,\n",
        "                                   width_shift_range=0.2,\n",
        "                                   height_shift_range=0.2,\n",
        "                                   shear_range=0.2,\n",
        "                                   zoom_range=0.2,\n",
        "                                   horizontal_flip=True,\n",
        "                                   fill_mode='reflect', cval=125) \n",
        "Test_ds= ImageDataGenerator(rescale=1./255)"
      ],
      "execution_count": 31,
      "outputs": []
    },
    {
      "cell_type": "code",
      "metadata": {
        "colab": {
          "base_uri": "https://localhost:8080/"
        },
        "id": "9b4mYF74v6Tm",
        "outputId": "a3620e94-b6e4-4f07-df5b-cc435cf99eef"
      },
      "source": [
        "Train_ds=Train_ds.flow_from_directory(directory='/content/data/class/',\n",
        "                                                batch_size=32,\n",
        "                                                target_size=(32, 32),\n",
        "                                                classes = arabic_characters,\n",
        "                                                class_mode='categorical'\n",
        "                                                )"
      ],
      "execution_count": 32,
      "outputs": [
        {
          "output_type": "stream",
          "text": [
            "Found 13440 images belonging to 28 classes.\n"
          ],
          "name": "stdout"
        }
      ]
    },
    {
      "cell_type": "code",
      "metadata": {
        "colab": {
          "base_uri": "https://localhost:8080/"
        },
        "id": "bLBIASxdv6W2",
        "outputId": "1e3479fd-8c21-4edf-94b6-5be5f8a79901"
      },
      "source": [
        "Test_ds=Test_ds.flow_from_directory(directory='/content/data/class_test/', \n",
        "                                    batch_size=16,  \n",
        "                                    target_size=(32, 32),\n",
        "                                    class_mode='categorical')"
      ],
      "execution_count": 33,
      "outputs": [
        {
          "output_type": "stream",
          "text": [
            "Found 3360 images belonging to 28 classes.\n"
          ],
          "name": "stdout"
        }
      ]
    },
    {
      "cell_type": "code",
      "metadata": {
        "colab": {
          "base_uri": "https://localhost:8080/"
        },
        "id": "OPISPEZDv6Y3",
        "outputId": "86beccd8-15f0-409c-e482-69802332bea5"
      },
      "source": [
        "Model=Sequential()\n",
        "Model.add(Conv2D(64,(3,3),input_shape=(32,32,3)))\n",
        "Model.add(Activation('relu'))\n",
        "Model.add(MaxPool2D(pool_size=(2,2)))\n",
        "\n",
        "Model.add(Conv2D(128,(3,3)))\n",
        "Model.add(Activation('relu'))\n",
        "Model.add(MaxPool2D(pool_size=(2,2)))\n",
        "Model.add(Flatten())\n",
        "Model.add(Dense(512))\n",
        "Model.add(Activation('relu'))\n",
        "Model.add(Dropout(0.5))\n",
        "Model.add(Dense(28))\n",
        "Model.add(Activation('softmax'))\n",
        "Model.summary()\n"
      ],
      "execution_count": 34,
      "outputs": [
        {
          "output_type": "stream",
          "text": [
            "Model: \"sequential_2\"\n",
            "_________________________________________________________________\n",
            "Layer (type)                 Output Shape              Param #   \n",
            "=================================================================\n",
            "conv2d_5 (Conv2D)            (None, 30, 30, 64)        1792      \n",
            "_________________________________________________________________\n",
            "activation_4 (Activation)    (None, 30, 30, 64)        0         \n",
            "_________________________________________________________________\n",
            "max_pooling2d_5 (MaxPooling2 (None, 15, 15, 64)        0         \n",
            "_________________________________________________________________\n",
            "conv2d_6 (Conv2D)            (None, 13, 13, 128)       73856     \n",
            "_________________________________________________________________\n",
            "activation_5 (Activation)    (None, 13, 13, 128)       0         \n",
            "_________________________________________________________________\n",
            "max_pooling2d_6 (MaxPooling2 (None, 6, 6, 128)         0         \n",
            "_________________________________________________________________\n",
            "flatten_2 (Flatten)          (None, 4608)              0         \n",
            "_________________________________________________________________\n",
            "dense_4 (Dense)              (None, 512)               2359808   \n",
            "_________________________________________________________________\n",
            "activation_6 (Activation)    (None, 512)               0         \n",
            "_________________________________________________________________\n",
            "dropout_3 (Dropout)          (None, 512)               0         \n",
            "_________________________________________________________________\n",
            "dense_5 (Dense)              (None, 28)                14364     \n",
            "_________________________________________________________________\n",
            "activation_7 (Activation)    (None, 28)                0         \n",
            "=================================================================\n",
            "Total params: 2,449,820\n",
            "Trainable params: 2,449,820\n",
            "Non-trainable params: 0\n",
            "_________________________________________________________________\n"
          ],
          "name": "stdout"
        }
      ]
    },
    {
      "cell_type": "code",
      "metadata": {
        "id": "nfvs_2B3v6cS"
      },
      "source": [
        "Model.compile(\n",
        "    # Optimizer\n",
        "    optimizer=tf.keras.optimizers.Adam(),  \n",
        "    # Loss function to minimize\n",
        "    loss='categorical_crossentropy',\n",
        "    # List of metrics to monitor\n",
        "    metrics=[\"accuracy\"],\n",
        ")"
      ],
      "execution_count": 35,
      "outputs": []
    },
    {
      "cell_type": "code",
      "metadata": {
        "colab": {
          "base_uri": "https://localhost:8080/",
          "height": 408
        },
        "id": "e2w-xlCKv6fd",
        "outputId": "5468cb8d-64e7-425f-cea6-d390679cdcd8"
      },
      "source": [
        "Model.fit(Train_ds,\n",
        "          steps_per_epoch= int(13440/32),\n",
        "          validation_data=Test_ds,\n",
        "          \n",
        "          epochs=50)"
      ],
      "execution_count": 36,
      "outputs": [
        {
          "output_type": "stream",
          "text": [
            "Epoch 1/50\n",
            "420/420 [==============================] - 58s 138ms/step - loss: 3.0219 - accuracy: 0.1205 - val_loss: 5.3744 - val_accuracy: 0.0324\n",
            "Epoch 2/50\n",
            " 85/420 [=====>........................] - ETA: 44s - loss: 2.4572 - accuracy: 0.2574"
          ],
          "name": "stdout"
        },
        {
          "output_type": "error",
          "ename": "KeyboardInterrupt",
          "evalue": "ignored",
          "traceback": [
            "\u001b[0;31m---------------------------------------------------------------------------\u001b[0m",
            "\u001b[0;31mKeyboardInterrupt\u001b[0m                         Traceback (most recent call last)",
            "\u001b[0;32m<ipython-input-36-d268a4ac02a7>\u001b[0m in \u001b[0;36m<module>\u001b[0;34m()\u001b[0m\n\u001b[1;32m      3\u001b[0m           \u001b[0mvalidation_data\u001b[0m\u001b[0;34m=\u001b[0m\u001b[0mTest_ds\u001b[0m\u001b[0;34m,\u001b[0m\u001b[0;34m\u001b[0m\u001b[0;34m\u001b[0m\u001b[0m\n\u001b[1;32m      4\u001b[0m \u001b[0;34m\u001b[0m\u001b[0m\n\u001b[0;32m----> 5\u001b[0;31m           epochs=50)\n\u001b[0m",
            "\u001b[0;32m/usr/local/lib/python3.6/dist-packages/tensorflow/python/keras/engine/training.py\u001b[0m in \u001b[0;36m_method_wrapper\u001b[0;34m(self, *args, **kwargs)\u001b[0m\n\u001b[1;32m    106\u001b[0m   \u001b[0;32mdef\u001b[0m \u001b[0m_method_wrapper\u001b[0m\u001b[0;34m(\u001b[0m\u001b[0mself\u001b[0m\u001b[0;34m,\u001b[0m \u001b[0;34m*\u001b[0m\u001b[0margs\u001b[0m\u001b[0;34m,\u001b[0m \u001b[0;34m**\u001b[0m\u001b[0mkwargs\u001b[0m\u001b[0;34m)\u001b[0m\u001b[0;34m:\u001b[0m\u001b[0;34m\u001b[0m\u001b[0;34m\u001b[0m\u001b[0m\n\u001b[1;32m    107\u001b[0m     \u001b[0;32mif\u001b[0m \u001b[0;32mnot\u001b[0m \u001b[0mself\u001b[0m\u001b[0;34m.\u001b[0m\u001b[0m_in_multi_worker_mode\u001b[0m\u001b[0;34m(\u001b[0m\u001b[0;34m)\u001b[0m\u001b[0;34m:\u001b[0m  \u001b[0;31m# pylint: disable=protected-access\u001b[0m\u001b[0;34m\u001b[0m\u001b[0;34m\u001b[0m\u001b[0m\n\u001b[0;32m--> 108\u001b[0;31m       \u001b[0;32mreturn\u001b[0m \u001b[0mmethod\u001b[0m\u001b[0;34m(\u001b[0m\u001b[0mself\u001b[0m\u001b[0;34m,\u001b[0m \u001b[0;34m*\u001b[0m\u001b[0margs\u001b[0m\u001b[0;34m,\u001b[0m \u001b[0;34m**\u001b[0m\u001b[0mkwargs\u001b[0m\u001b[0;34m)\u001b[0m\u001b[0;34m\u001b[0m\u001b[0;34m\u001b[0m\u001b[0m\n\u001b[0m\u001b[1;32m    109\u001b[0m \u001b[0;34m\u001b[0m\u001b[0m\n\u001b[1;32m    110\u001b[0m     \u001b[0;31m# Running inside `run_distribute_coordinator` already.\u001b[0m\u001b[0;34m\u001b[0m\u001b[0;34m\u001b[0m\u001b[0;34m\u001b[0m\u001b[0m\n",
            "\u001b[0;32m/usr/local/lib/python3.6/dist-packages/tensorflow/python/keras/engine/training.py\u001b[0m in \u001b[0;36mfit\u001b[0;34m(self, x, y, batch_size, epochs, verbose, callbacks, validation_split, validation_data, shuffle, class_weight, sample_weight, initial_epoch, steps_per_epoch, validation_steps, validation_batch_size, validation_freq, max_queue_size, workers, use_multiprocessing)\u001b[0m\n\u001b[1;32m   1096\u001b[0m                 batch_size=batch_size):\n\u001b[1;32m   1097\u001b[0m               \u001b[0mcallbacks\u001b[0m\u001b[0;34m.\u001b[0m\u001b[0mon_train_batch_begin\u001b[0m\u001b[0;34m(\u001b[0m\u001b[0mstep\u001b[0m\u001b[0;34m)\u001b[0m\u001b[0;34m\u001b[0m\u001b[0;34m\u001b[0m\u001b[0m\n\u001b[0;32m-> 1098\u001b[0;31m               \u001b[0mtmp_logs\u001b[0m \u001b[0;34m=\u001b[0m \u001b[0mtrain_function\u001b[0m\u001b[0;34m(\u001b[0m\u001b[0miterator\u001b[0m\u001b[0;34m)\u001b[0m\u001b[0;34m\u001b[0m\u001b[0;34m\u001b[0m\u001b[0m\n\u001b[0m\u001b[1;32m   1099\u001b[0m               \u001b[0;32mif\u001b[0m \u001b[0mdata_handler\u001b[0m\u001b[0;34m.\u001b[0m\u001b[0mshould_sync\u001b[0m\u001b[0;34m:\u001b[0m\u001b[0;34m\u001b[0m\u001b[0;34m\u001b[0m\u001b[0m\n\u001b[1;32m   1100\u001b[0m                 \u001b[0mcontext\u001b[0m\u001b[0;34m.\u001b[0m\u001b[0masync_wait\u001b[0m\u001b[0;34m(\u001b[0m\u001b[0;34m)\u001b[0m\u001b[0;34m\u001b[0m\u001b[0;34m\u001b[0m\u001b[0m\n",
            "\u001b[0;32m/usr/local/lib/python3.6/dist-packages/tensorflow/python/eager/def_function.py\u001b[0m in \u001b[0;36m__call__\u001b[0;34m(self, *args, **kwds)\u001b[0m\n\u001b[1;32m    778\u001b[0m       \u001b[0;32melse\u001b[0m\u001b[0;34m:\u001b[0m\u001b[0;34m\u001b[0m\u001b[0;34m\u001b[0m\u001b[0m\n\u001b[1;32m    779\u001b[0m         \u001b[0mcompiler\u001b[0m \u001b[0;34m=\u001b[0m \u001b[0;34m\"nonXla\"\u001b[0m\u001b[0;34m\u001b[0m\u001b[0;34m\u001b[0m\u001b[0m\n\u001b[0;32m--> 780\u001b[0;31m         \u001b[0mresult\u001b[0m \u001b[0;34m=\u001b[0m \u001b[0mself\u001b[0m\u001b[0;34m.\u001b[0m\u001b[0m_call\u001b[0m\u001b[0;34m(\u001b[0m\u001b[0;34m*\u001b[0m\u001b[0margs\u001b[0m\u001b[0;34m,\u001b[0m \u001b[0;34m**\u001b[0m\u001b[0mkwds\u001b[0m\u001b[0;34m)\u001b[0m\u001b[0;34m\u001b[0m\u001b[0;34m\u001b[0m\u001b[0m\n\u001b[0m\u001b[1;32m    781\u001b[0m \u001b[0;34m\u001b[0m\u001b[0m\n\u001b[1;32m    782\u001b[0m       \u001b[0mnew_tracing_count\u001b[0m \u001b[0;34m=\u001b[0m \u001b[0mself\u001b[0m\u001b[0;34m.\u001b[0m\u001b[0m_get_tracing_count\u001b[0m\u001b[0;34m(\u001b[0m\u001b[0;34m)\u001b[0m\u001b[0;34m\u001b[0m\u001b[0;34m\u001b[0m\u001b[0m\n",
            "\u001b[0;32m/usr/local/lib/python3.6/dist-packages/tensorflow/python/eager/def_function.py\u001b[0m in \u001b[0;36m_call\u001b[0;34m(self, *args, **kwds)\u001b[0m\n\u001b[1;32m    805\u001b[0m       \u001b[0;31m# In this case we have created variables on the first call, so we run the\u001b[0m\u001b[0;34m\u001b[0m\u001b[0;34m\u001b[0m\u001b[0;34m\u001b[0m\u001b[0m\n\u001b[1;32m    806\u001b[0m       \u001b[0;31m# defunned version which is guaranteed to never create variables.\u001b[0m\u001b[0;34m\u001b[0m\u001b[0;34m\u001b[0m\u001b[0;34m\u001b[0m\u001b[0m\n\u001b[0;32m--> 807\u001b[0;31m       \u001b[0;32mreturn\u001b[0m \u001b[0mself\u001b[0m\u001b[0;34m.\u001b[0m\u001b[0m_stateless_fn\u001b[0m\u001b[0;34m(\u001b[0m\u001b[0;34m*\u001b[0m\u001b[0margs\u001b[0m\u001b[0;34m,\u001b[0m \u001b[0;34m**\u001b[0m\u001b[0mkwds\u001b[0m\u001b[0;34m)\u001b[0m  \u001b[0;31m# pylint: disable=not-callable\u001b[0m\u001b[0;34m\u001b[0m\u001b[0;34m\u001b[0m\u001b[0m\n\u001b[0m\u001b[1;32m    808\u001b[0m     \u001b[0;32melif\u001b[0m \u001b[0mself\u001b[0m\u001b[0;34m.\u001b[0m\u001b[0m_stateful_fn\u001b[0m \u001b[0;32mis\u001b[0m \u001b[0;32mnot\u001b[0m \u001b[0;32mNone\u001b[0m\u001b[0;34m:\u001b[0m\u001b[0;34m\u001b[0m\u001b[0;34m\u001b[0m\u001b[0m\n\u001b[1;32m    809\u001b[0m       \u001b[0;31m# Release the lock early so that multiple threads can perform the call\u001b[0m\u001b[0;34m\u001b[0m\u001b[0;34m\u001b[0m\u001b[0;34m\u001b[0m\u001b[0m\n",
            "\u001b[0;32m/usr/local/lib/python3.6/dist-packages/tensorflow/python/eager/function.py\u001b[0m in \u001b[0;36m__call__\u001b[0;34m(self, *args, **kwargs)\u001b[0m\n\u001b[1;32m   2827\u001b[0m     \u001b[0;32mwith\u001b[0m \u001b[0mself\u001b[0m\u001b[0;34m.\u001b[0m\u001b[0m_lock\u001b[0m\u001b[0;34m:\u001b[0m\u001b[0;34m\u001b[0m\u001b[0;34m\u001b[0m\u001b[0m\n\u001b[1;32m   2828\u001b[0m       \u001b[0mgraph_function\u001b[0m\u001b[0;34m,\u001b[0m \u001b[0margs\u001b[0m\u001b[0;34m,\u001b[0m \u001b[0mkwargs\u001b[0m \u001b[0;34m=\u001b[0m \u001b[0mself\u001b[0m\u001b[0;34m.\u001b[0m\u001b[0m_maybe_define_function\u001b[0m\u001b[0;34m(\u001b[0m\u001b[0margs\u001b[0m\u001b[0;34m,\u001b[0m \u001b[0mkwargs\u001b[0m\u001b[0;34m)\u001b[0m\u001b[0;34m\u001b[0m\u001b[0;34m\u001b[0m\u001b[0m\n\u001b[0;32m-> 2829\u001b[0;31m     \u001b[0;32mreturn\u001b[0m \u001b[0mgraph_function\u001b[0m\u001b[0;34m.\u001b[0m\u001b[0m_filtered_call\u001b[0m\u001b[0;34m(\u001b[0m\u001b[0margs\u001b[0m\u001b[0;34m,\u001b[0m \u001b[0mkwargs\u001b[0m\u001b[0;34m)\u001b[0m  \u001b[0;31m# pylint: disable=protected-access\u001b[0m\u001b[0;34m\u001b[0m\u001b[0;34m\u001b[0m\u001b[0m\n\u001b[0m\u001b[1;32m   2830\u001b[0m \u001b[0;34m\u001b[0m\u001b[0m\n\u001b[1;32m   2831\u001b[0m   \u001b[0;34m@\u001b[0m\u001b[0mproperty\u001b[0m\u001b[0;34m\u001b[0m\u001b[0;34m\u001b[0m\u001b[0m\n",
            "\u001b[0;32m/usr/local/lib/python3.6/dist-packages/tensorflow/python/eager/function.py\u001b[0m in \u001b[0;36m_filtered_call\u001b[0;34m(self, args, kwargs, cancellation_manager)\u001b[0m\n\u001b[1;32m   1846\u001b[0m                            resource_variable_ops.BaseResourceVariable))],\n\u001b[1;32m   1847\u001b[0m         \u001b[0mcaptured_inputs\u001b[0m\u001b[0;34m=\u001b[0m\u001b[0mself\u001b[0m\u001b[0;34m.\u001b[0m\u001b[0mcaptured_inputs\u001b[0m\u001b[0;34m,\u001b[0m\u001b[0;34m\u001b[0m\u001b[0;34m\u001b[0m\u001b[0m\n\u001b[0;32m-> 1848\u001b[0;31m         cancellation_manager=cancellation_manager)\n\u001b[0m\u001b[1;32m   1849\u001b[0m \u001b[0;34m\u001b[0m\u001b[0m\n\u001b[1;32m   1850\u001b[0m   \u001b[0;32mdef\u001b[0m \u001b[0m_call_flat\u001b[0m\u001b[0;34m(\u001b[0m\u001b[0mself\u001b[0m\u001b[0;34m,\u001b[0m \u001b[0margs\u001b[0m\u001b[0;34m,\u001b[0m \u001b[0mcaptured_inputs\u001b[0m\u001b[0;34m,\u001b[0m \u001b[0mcancellation_manager\u001b[0m\u001b[0;34m=\u001b[0m\u001b[0;32mNone\u001b[0m\u001b[0;34m)\u001b[0m\u001b[0;34m:\u001b[0m\u001b[0;34m\u001b[0m\u001b[0;34m\u001b[0m\u001b[0m\n",
            "\u001b[0;32m/usr/local/lib/python3.6/dist-packages/tensorflow/python/eager/function.py\u001b[0m in \u001b[0;36m_call_flat\u001b[0;34m(self, args, captured_inputs, cancellation_manager)\u001b[0m\n\u001b[1;32m   1922\u001b[0m       \u001b[0;31m# No tape is watching; skip to running the function.\u001b[0m\u001b[0;34m\u001b[0m\u001b[0;34m\u001b[0m\u001b[0;34m\u001b[0m\u001b[0m\n\u001b[1;32m   1923\u001b[0m       return self._build_call_outputs(self._inference_function.call(\n\u001b[0;32m-> 1924\u001b[0;31m           ctx, args, cancellation_manager=cancellation_manager))\n\u001b[0m\u001b[1;32m   1925\u001b[0m     forward_backward = self._select_forward_and_backward_functions(\n\u001b[1;32m   1926\u001b[0m         \u001b[0margs\u001b[0m\u001b[0;34m,\u001b[0m\u001b[0;34m\u001b[0m\u001b[0;34m\u001b[0m\u001b[0m\n",
            "\u001b[0;32m/usr/local/lib/python3.6/dist-packages/tensorflow/python/eager/function.py\u001b[0m in \u001b[0;36mcall\u001b[0;34m(self, ctx, args, cancellation_manager)\u001b[0m\n\u001b[1;32m    548\u001b[0m               \u001b[0minputs\u001b[0m\u001b[0;34m=\u001b[0m\u001b[0margs\u001b[0m\u001b[0;34m,\u001b[0m\u001b[0;34m\u001b[0m\u001b[0;34m\u001b[0m\u001b[0m\n\u001b[1;32m    549\u001b[0m               \u001b[0mattrs\u001b[0m\u001b[0;34m=\u001b[0m\u001b[0mattrs\u001b[0m\u001b[0;34m,\u001b[0m\u001b[0;34m\u001b[0m\u001b[0;34m\u001b[0m\u001b[0m\n\u001b[0;32m--> 550\u001b[0;31m               ctx=ctx)\n\u001b[0m\u001b[1;32m    551\u001b[0m         \u001b[0;32melse\u001b[0m\u001b[0;34m:\u001b[0m\u001b[0;34m\u001b[0m\u001b[0;34m\u001b[0m\u001b[0m\n\u001b[1;32m    552\u001b[0m           outputs = execute.execute_with_cancellation(\n",
            "\u001b[0;32m/usr/local/lib/python3.6/dist-packages/tensorflow/python/eager/execute.py\u001b[0m in \u001b[0;36mquick_execute\u001b[0;34m(op_name, num_outputs, inputs, attrs, ctx, name)\u001b[0m\n\u001b[1;32m     58\u001b[0m     \u001b[0mctx\u001b[0m\u001b[0;34m.\u001b[0m\u001b[0mensure_initialized\u001b[0m\u001b[0;34m(\u001b[0m\u001b[0;34m)\u001b[0m\u001b[0;34m\u001b[0m\u001b[0;34m\u001b[0m\u001b[0m\n\u001b[1;32m     59\u001b[0m     tensors = pywrap_tfe.TFE_Py_Execute(ctx._handle, device_name, op_name,\n\u001b[0;32m---> 60\u001b[0;31m                                         inputs, attrs, num_outputs)\n\u001b[0m\u001b[1;32m     61\u001b[0m   \u001b[0;32mexcept\u001b[0m \u001b[0mcore\u001b[0m\u001b[0;34m.\u001b[0m\u001b[0m_NotOkStatusException\u001b[0m \u001b[0;32mas\u001b[0m \u001b[0me\u001b[0m\u001b[0;34m:\u001b[0m\u001b[0;34m\u001b[0m\u001b[0;34m\u001b[0m\u001b[0m\n\u001b[1;32m     62\u001b[0m     \u001b[0;32mif\u001b[0m \u001b[0mname\u001b[0m \u001b[0;32mis\u001b[0m \u001b[0;32mnot\u001b[0m \u001b[0;32mNone\u001b[0m\u001b[0;34m:\u001b[0m\u001b[0;34m\u001b[0m\u001b[0;34m\u001b[0m\u001b[0m\n",
            "\u001b[0;31mKeyboardInterrupt\u001b[0m: "
          ]
        }
      ]
    }
  ]
}